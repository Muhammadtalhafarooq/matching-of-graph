{
  "nbformat": 4,
  "nbformat_minor": 0,
  "metadata": {
    "colab": {
      "provenance": [],
      "authorship_tag": "ABX9TyOY3Mqclda2htEP8Tnb6Xe0",
      "include_colab_link": true
    },
    "kernelspec": {
      "name": "python3",
      "display_name": "Python 3"
    },
    "language_info": {
      "name": "python"
    }
  },
  "cells": [
    {
      "cell_type": "markdown",
      "metadata": {
        "id": "view-in-github",
        "colab_type": "text"
      },
      "source": [
        "<a href=\"https://colab.research.google.com/github/Muhammadtalhafarooq/matching-of-graph/blob/main/Matching_of_Graph.ipynb\" target=\"_parent\"><img src=\"https://colab.research.google.com/assets/colab-badge.svg\" alt=\"Open In Colab\"/></a>"
      ]
    },
    {
      "cell_type": "markdown",
      "source": [
        "Python program for all matching of \"A1\""
      ],
      "metadata": {
        "id": "PRn2Zmtf9PDV"
      }
    },
    {
      "cell_type": "code",
      "source": [
        "from itertools import chain, combinations\n",
        "def powerset(seq):\n",
        "    \"\"\"\n",
        "    Returns all the subsets of this set. This is a generator.\n",
        "    \"\"\"\n",
        "    if len(seq) <= 1:\n",
        "        yield seq\n",
        "        yield []\n",
        "    else:\n",
        "        for item in powerset(seq[1:]):\n",
        "            yield [seq[0]]+item\n",
        "            yield item\n"
      ],
      "metadata": {
        "id": "AI3onF5S9Iw_"
      },
      "execution_count": null,
      "outputs": []
    },
    {
      "cell_type": "code",
      "source": [
        "# imports\n",
        "import networkx as nx\n",
        "from networkx.algorithms import matching\n",
        "# Initialise graph\n",
        "B = nx.Graph()\n",
        "# Add edges only between nodes of opposite node sets\n",
        "edge = [(1,2), (1,5), (2,3), (3,4), (4,5), (3,6), (6,7), (6,9), (7,8), (10,9)]\n",
        "B.add_edges_from(edge)\n",
        "P_edge = list(powerset(edge))\n",
        "count = 0\n",
        "for sub in P_edge:\n",
        "  if matching.is_matching(B,sub): \n",
        "      count += 1\n",
        "print(count)"
      ],
      "metadata": {
        "id": "LyCvCFPxwMM8",
        "colab": {
          "base_uri": "https://localhost:8080/"
        },
        "outputId": "6e236862-7217-4c03-aa08-76692267f877"
      },
      "execution_count": null,
      "outputs": [
        {
          "output_type": "stream",
          "name": "stdout",
          "text": [
            "108\n"
          ]
        }
      ]
    },
    {
      "cell_type": "markdown",
      "source": [
        "Python program for all matching of \"A4\""
      ],
      "metadata": {
        "id": "uH6TJ5QL97gL"
      }
    },
    {
      "cell_type": "code",
      "source": [
        "from itertools import chain, combinations\n",
        "def powerset(seq):\n",
        "    \"\"\"\n",
        "    Returns all the subsets of this set. This is a generator.\n",
        "    \"\"\"\n",
        "    if len(seq) <= 1:\n",
        "        yield seq\n",
        "        yield []\n",
        "    else:\n",
        "        for item in powerset(seq[1:]):\n",
        "            yield [seq[0]]+item\n",
        "            yield item"
      ],
      "metadata": {
        "id": "LpPFwAPy_Hu7"
      },
      "execution_count": null,
      "outputs": []
    },
    {
      "cell_type": "code",
      "source": [
        "# imports\n",
        "import networkx as nx\n",
        "from networkx.algorithms import matching\n",
        "# Initialise graph\n",
        "B = nx.Graph()\n",
        "# Add edges only between nodes of opposite node sets\n",
        "edge = [(1,2), (1,5), (2,3), (3,4), (4,5), (3,6), (6,7), (6,9), (7,8), (10,9), (8,11), (10,11)]\n",
        "B.add_edges_from(edge)\n",
        "P_edge = list(powerset(edge))\n",
        "count = 0\n",
        "for sub in P_edge:\n",
        "  if matching.is_matching(B,sub): \n",
        "      count += 1\n",
        "print(count)\n"
      ],
      "metadata": {
        "colab": {
          "base_uri": "https://localhost:8080/"
        },
        "id": "OWInQBLz-EGa",
        "outputId": "cead6506-a1bc-4df6-e94f-ccc7a92bb600"
      },
      "execution_count": null,
      "outputs": [
        {
          "output_type": "stream",
          "name": "stdout",
          "text": [
            "238\n"
          ]
        }
      ]
    },
    {
      "cell_type": "markdown",
      "source": [
        "Python program for all matching of \"A3\""
      ],
      "metadata": {
        "id": "9b5rKkwu-Gkr"
      }
    },
    {
      "cell_type": "code",
      "source": [
        "from itertools import chain, combinations\n",
        "def powerset(seq):\n",
        "    \"\"\"\n",
        "    Returns all the subsets of this set. This is a generator.\n",
        "    \"\"\"\n",
        "    if len(seq) <= 1:\n",
        "        yield seq\n",
        "        yield []\n",
        "    else:\n",
        "        for item in powerset(seq[1:]):\n",
        "            yield [seq[0]]+item\n",
        "            yield item"
      ],
      "metadata": {
        "id": "8eY-4XKb_I21"
      },
      "execution_count": null,
      "outputs": []
    },
    {
      "cell_type": "code",
      "source": [
        "# imports\n",
        "import networkx as nx\n",
        "from networkx.algorithms import matching\n",
        "# Initialise graph\n",
        "B = nx.Graph()\n",
        "# Add edges only between nodes of opposite node sets\n",
        "edge = [(1,2), (2,3), (3,4), (3,6), (6,7), (6,9), (7,8), (10,9), (8,11), (10,11)]\n",
        "B.add_edges_from(edge)\n",
        "P_edge = list(powerset(edge))\n",
        "count = 0\n",
        "for sub in P_edge:\n",
        "  if matching.is_matching(B,sub): \n",
        "      count += 1\n",
        "print(count)"
      ],
      "metadata": {
        "colab": {
          "base_uri": "https://localhost:8080/"
        },
        "id": "xgyHGRrC-Kmz",
        "outputId": "6329d043-a8d6-44a4-87e3-b78790c21148"
      },
      "execution_count": null,
      "outputs": [
        {
          "output_type": "stream",
          "name": "stdout",
          "text": [
            "106\n"
          ]
        }
      ]
    },
    {
      "cell_type": "markdown",
      "source": [
        "Python program for all matching of \"A5\""
      ],
      "metadata": {
        "id": "5zO3kXWZ-43E"
      }
    },
    {
      "cell_type": "code",
      "source": [
        "from itertools import chain, combinations\n",
        "def powerset(seq):\n",
        "    \"\"\"\n",
        "    Returns all the subsets of this set. This is a generator.\n",
        "    \"\"\"\n",
        "    if len(seq) <= 1:\n",
        "        yield seq\n",
        "        yield []\n",
        "    else:\n",
        "        for item in powerset(seq[1:]):\n",
        "            yield [seq[0]]+item\n",
        "            yield item"
      ],
      "metadata": {
        "id": "UVDrQgGW_KO7"
      },
      "execution_count": null,
      "outputs": []
    },
    {
      "cell_type": "code",
      "source": [
        "# imports\n",
        "import networkx as nx\n",
        "from networkx.algorithms import matching\n",
        "# Initialise graph\n",
        "B = nx.Graph()\n",
        "# Add edges only between nodes of opposite node sets\n",
        "edge = [(1,2), (1,5), (11,5), (2,3), (3,4), (4,5), (3,6), (6,7), (6,9), (7,8), (10,9)]\n",
        "B.add_edges_from(edge)\n",
        "P_edge = list(powerset(edge))\n",
        "count = 0\n",
        "for sub in P_edge:\n",
        "  if matching.is_matching(B,sub): \n",
        "      count += 1\n",
        "print(count)\n"
      ],
      "metadata": {
        "colab": {
          "base_uri": "https://localhost:8080/"
        },
        "id": "YDP62Zik-4JL",
        "outputId": "c239fc64-6690-4c75-b3ed-469d1828f3e2"
      },
      "execution_count": null,
      "outputs": [
        {
          "output_type": "stream",
          "name": "stdout",
          "text": [
            "156\n"
          ]
        }
      ]
    },
    {
      "cell_type": "markdown",
      "source": [
        "Python program for all matching of \"F1\""
      ],
      "metadata": {
        "id": "L1O5Ml49_CXD"
      }
    },
    {
      "cell_type": "code",
      "source": [
        "from itertools import chain, combinations\n",
        "def powerset(seq):\n",
        "    \"\"\"\n",
        "    Returns all the subsets of this set. This is a generator.\n",
        "    \"\"\"\n",
        "    if len(seq) <= 1:\n",
        "        yield seq\n",
        "        yield []\n",
        "    else:\n",
        "        for item in powerset(seq[1:]):\n",
        "            yield [seq[0]]+item\n",
        "            yield item"
      ],
      "metadata": {
        "id": "KpifSFl2_LTr"
      },
      "execution_count": null,
      "outputs": []
    },
    {
      "cell_type": "code",
      "source": [
        "# imports\n",
        "import networkx as nx\n",
        "from networkx.algorithms import matching\n",
        "# Initialise graph\n",
        "B = nx.Graph()\n",
        "# Add edges only between nodes of opposite node sets\n",
        "edge = [(12,5), (5,1), (5,4), (1,2), (2,3), (3,4), (3,6), (6,7), (6,9), (7,8), (9,10), (8,11), (10,11)]\n",
        "B.add_edges_from(edge)\n",
        "P_edge = list(powerset(edge))\n",
        "count = 0\n",
        "for sub in P_edge:\n",
        "  if matching.is_matching(B,sub): \n",
        "      count += 1\n",
        "print(count)\n"
      ],
      "metadata": {
        "colab": {
          "base_uri": "https://localhost:8080/"
        },
        "id": "vrc2_KoU_A7L",
        "outputId": "d847b2a9-0c58-4c63-ab07-c631cbb4d759"
      },
      "execution_count": null,
      "outputs": [
        {
          "output_type": "stream",
          "name": "stdout",
          "text": [
            "344\n"
          ]
        }
      ]
    },
    {
      "cell_type": "markdown",
      "source": [
        "Python program for all matching of \"A2\""
      ],
      "metadata": {
        "id": "slZlcm7vB6q8"
      }
    },
    {
      "cell_type": "code",
      "source": [
        "from itertools import chain, combinations\n",
        "def powerset(seq):\n",
        "    \"\"\"\n",
        "    Returns all the subsets of this set. This is a generator.\n",
        "    \"\"\"\n",
        "    if len(seq) <= 1:\n",
        "        yield seq\n",
        "        yield []\n",
        "    else:\n",
        "        for item in powerset(seq[1:]):\n",
        "            yield [seq[0]]+item\n",
        "            yield item"
      ],
      "metadata": {
        "id": "O12v48hSB_sA"
      },
      "execution_count": null,
      "outputs": []
    },
    {
      "cell_type": "code",
      "source": [
        "# imports\n",
        "import networkx as nx\n",
        "from networkx.algorithms import matching\n",
        "# Initialise graph\n",
        "B = nx.Graph()\n",
        "# Add edges only between nodes of opposite node sets\n",
        "edge = [(1,2), (2,3), (3,4), (3,6), (6,7), (6,9), (7,8), (9,10)]\n",
        "B.add_edges_from(edge)\n",
        "P_edge = list(powerset(edge))\n",
        "count = 0\n",
        "for sub in P_edge:\n",
        "  if matching.is_matching(B,sub): \n",
        "      count += 1\n",
        "print(count)"
      ],
      "metadata": {
        "colab": {
          "base_uri": "https://localhost:8080/"
        },
        "id": "gGjp7SK3CCXs",
        "outputId": "20d4fb98-4358-4a53-b494-a45a717b0f2a"
      },
      "execution_count": null,
      "outputs": [
        {
          "output_type": "stream",
          "name": "stdout",
          "text": [
            "48\n"
          ]
        }
      ]
    }
  ]
}