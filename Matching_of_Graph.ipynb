{
  "nbformat": 4,
  "nbformat_minor": 0,
  "metadata": {
    "colab": {
      "provenance": [],
      "include_colab_link": true
    },
    "kernelspec": {
      "name": "python3",
      "display_name": "Python 3"
    },
    "language_info": {
      "name": "python"
    }
  },
  "cells": [
    {
      "cell_type": "markdown",
      "metadata": {
        "id": "view-in-github",
        "colab_type": "text"
      },
      "source": [
        "<a href=\"https://colab.research.google.com/github/Muhammadtalhafarooq/matching-of-graph/blob/main/Matching_of_Graph.ipynb\" target=\"_parent\"><img src=\"https://colab.research.google.com/assets/colab-badge.svg\" alt=\"Open In Colab\"/></a>"
      ]
    },
    {
      "cell_type": "code",
      "execution_count": null,
      "metadata": {
        "id": "J4T2LjQhwKMA"
      },
      "outputs": [],
      "source": [
        "from itertools import chain, combinations\n",
        "def powerset(seq):\n",
        "    \"\"\"\n",
        "    Returns all the subsets of this set. This is a generator.\n",
        "    \"\"\"\n",
        "    if len(seq) <= 1:\n",
        "        yield seq\n",
        "        yield []\n",
        "    else:\n",
        "        for item in powerset(seq[1:]):\n",
        "            yield [seq[0]]+item\n",
        "            yield item\n"
      ]
    },
    {
      "cell_type": "code",
      "source": [
        "# imports\n",
        "import networkx as nx\n",
        "from networkx.algorithms import matching\n",
        "# Initialise graph\n",
        "B = nx.Graph()\n",
        "# Add edges only between nodes of opposite node sets\n",
        "edge = [(1, 2), (2,3), (2,6), (3,4), (4,5), (5,6), (5,7), (7,8), (7,10), (8,9), (10,11)]\n",
        "B.add_edges_from(edge)\n",
        "P_edge = list(powerset(edge))\n",
        "count = 0\n",
        "for sub in P_edge:\n",
        "  if matching.is_matching(B,sub): \n",
        "      count += 1\n",
        "print(count)\n"
      ],
      "metadata": {
        "id": "LyCvCFPxwMM8"
      },
      "execution_count": null,
      "outputs": []
    }
  ]
}