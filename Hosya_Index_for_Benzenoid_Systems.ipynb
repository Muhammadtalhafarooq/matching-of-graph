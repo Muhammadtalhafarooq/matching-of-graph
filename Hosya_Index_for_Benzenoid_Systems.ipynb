{
  "nbformat": 4,
  "nbformat_minor": 0,
  "metadata": {
    "colab": {
      "provenance": [],
      "authorship_tag": "ABX9TyM05UWCvnle0PWqmerR3OIq",
      "include_colab_link": true
    },
    "kernelspec": {
      "name": "python3",
      "display_name": "Python 3"
    },
    "language_info": {
      "name": "python"
    }
  },
  "cells": [
    {
      "cell_type": "markdown",
      "metadata": {
        "id": "view-in-github",
        "colab_type": "text"
      },
      "source": [
        "<a href=\"https://colab.research.google.com/github/Muhammadtalhafarooq/matching-of-graph/blob/main/Hosya_Index_for_Benzenoid_Systems.ipynb\" target=\"_parent\"><img src=\"https://colab.research.google.com/assets/colab-badge.svg\" alt=\"Open In Colab\"/></a>"
      ]
    },
    {
      "cell_type": "markdown",
      "source": [
        "Python program for all matching of Benzenoid System \"X_n\""
      ],
      "metadata": {
        "id": "udb6kaHu7OmP"
      }
    },
    {
      "cell_type": "code",
      "source": [
        "from itertools import chain, combinations\n",
        "def powerset(seq):\n",
        "    \"\"\"\n",
        "    Returns all the subsets of this set. This is a generator.\n",
        "    \"\"\"\n",
        "    if len(seq) <= 1:\n",
        "        yield seq\n",
        "        yield []\n",
        "    else:\n",
        "        for item in powerset(seq[1:]):\n",
        "            yield [seq[0]]+item\n",
        "            yield item"
      ],
      "metadata": {
        "id": "LsH16dvG7aLF"
      },
      "execution_count": 1,
      "outputs": []
    },
    {
      "cell_type": "code",
      "execution_count": 3,
      "metadata": {
        "colab": {
          "base_uri": "https://localhost:8080/"
        },
        "id": "j0PkZa977Jr4",
        "outputId": "ffdc834d-6e24-4a99-a0d8-723b8e441e83"
      },
      "outputs": [
        {
          "output_type": "stream",
          "name": "stdout",
          "text": [
            "19822\n"
          ]
        }
      ],
      "source": [
        "# imports\n",
        "import networkx as nx\n",
        "from networkx.algorithms import matching\n",
        "# Initialise graph\n",
        "B = nx.Graph()\n",
        "# Add edges only between nodes of opposite node sets\n",
        "edge = [(1,2), (1,11), (2,3), (3,4), (3,12), (4,5), (5,6), (5,13), (6,7), (7,14), (14,8), (8,19), (8,13), (13,9), (12,9), (9,17), (12,10), (10,15), (10,11), (15,16), (16,17), (17,18), (18,19)]\n",
        "B.add_edges_from(edge)\n",
        "P_edge = list(powerset(edge))\n",
        "count = 0\n",
        "for sub in P_edge:\n",
        "  if matching.is_matching(B,sub):\n",
        "      count += 1\n",
        "print(count)"
      ]
    },
    {
      "cell_type": "markdown",
      "source": [
        "\n",
        "Python program for all matching of Benzenoid System \"Y_n\""
      ],
      "metadata": {
        "id": "OMKjIGJ6999U"
      }
    },
    {
      "cell_type": "code",
      "source": [
        "from itertools import chain, combinations\n",
        "def powerset(seq):\n",
        "    \"\"\"\n",
        "    Returns all the subsets of this set. This is a generator.\n",
        "    \"\"\"\n",
        "    if len(seq) <= 1:\n",
        "        yield seq\n",
        "        yield []\n",
        "    else:\n",
        "        for item in powerset(seq[1:]):\n",
        "            yield [seq[0]]+item\n",
        "            yield item"
      ],
      "metadata": {
        "id": "Mb2Dwfzy-AFp"
      },
      "execution_count": 4,
      "outputs": []
    },
    {
      "cell_type": "code",
      "source": [
        "# imports\n",
        "import networkx as nx\n",
        "from networkx.algorithms import matching\n",
        "# Initialise graph\n",
        "B = nx.Graph()\n",
        "# Add edges only between nodes of opposite node sets\n",
        "edge = [(1,2), (1,11), (2,3), (2,15), (3,4), (3,12), (4,5), (4,17), (5,6), (5,13), (6,7), (6,19), (7,14), (14,8), (8,13), (13,9), (12,9), (12,10), (10,11), (15,16), (16,17), (17,18), (18,19)]\n",
        "B.add_edges_from(edge)\n",
        "P_edge = list(powerset(edge))\n",
        "count = 0\n",
        "for sub in P_edge:\n",
        "  if matching.is_matching(B,sub):\n",
        "      count += 1\n",
        "print(count)"
      ],
      "metadata": {
        "colab": {
          "base_uri": "https://localhost:8080/"
        },
        "id": "wh-L4nBN-Bd6",
        "outputId": "dd16759e-87fe-4086-b657-d0207350d92c"
      },
      "execution_count": 5,
      "outputs": [
        {
          "output_type": "stream",
          "name": "stdout",
          "text": [
            "19822\n"
          ]
        }
      ]
    },
    {
      "cell_type": "markdown",
      "source": [
        "**MATLAB Algorithm**\n",
        "This code for MATLAB by using this you can calulted the hosoya index of any system. Just need to extend the matrix that obtainde by using the Python."
      ],
      "metadata": {
        "id": "KX0ks3G8_mAk"
      }
    },
    {
      "cell_type": "code",
      "source": [
        "tic;\n",
        "A= [1208 574 612 574 262 270 262 112; 574 274 298 128 296 140 140 60; 612 298 324 144 298 144 144 64; 574 296 298 140 274 140 128 60; 262 128 144 64 140 68 72 32; 262 140 144 72 128 68 64 32; 270 140 144 68 140 72 68 32; 112 60 64 32 60 32 32 16];\n",
        "vektor= [8;5;4;5;2;3;2;1]\n",
        "sonuc=A*vektor\n",
        "toc;"
      ],
      "metadata": {
        "id": "n-eeIIebB0PI"
      },
      "execution_count": null,
      "outputs": []
    }
  ]
}